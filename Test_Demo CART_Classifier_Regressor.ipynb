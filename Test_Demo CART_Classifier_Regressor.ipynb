{
 "cells": [
  {
   "cell_type": "markdown",
   "id": "bfe0f312",
   "metadata": {},
   "source": [
    "# Test demo. for reproduced CART regressor and classifier"
   ]
  },
  {
   "cell_type": "code",
   "execution_count": 1,
   "id": "fca4abc5",
   "metadata": {},
   "outputs": [],
   "source": [
    "from CART import cartRegressor, cartClassifier\n",
    "from sklearn.datasets import make_regression, make_classification\n",
    "from sklearn.metrics import mean_squared_error, mean_absolute_error, r2_score, mean_absolute_percentage_error\n",
    "from sklearn.metrics import accuracy_score, precision_score, recall_score, f1_score\n",
    "from sklearn.tree import DecisionTreeRegressor, DecisionTreeClassifier"
   ]
  },
  {
   "cell_type": "markdown",
   "id": "5d8b472c",
   "metadata": {},
   "source": [
    "### CART Regressor"
   ]
  },
  {
   "cell_type": "markdown",
   "id": "9208e206",
   "metadata": {},
   "source": [
    "Generate synthetic data for regression"
   ]
  },
  {
   "cell_type": "code",
   "execution_count": 2,
   "id": "d3af9fbd",
   "metadata": {},
   "outputs": [],
   "source": [
    "data_x, data_y = make_regression(n_samples=2000, n_features=6)"
   ]
  },
  {
   "cell_type": "markdown",
   "id": "65b0f63a",
   "metadata": {},
   "source": [
    "##### Reproduced CART regressor\n",
    "1. Initialise the reproduced CART regressor"
   ]
  },
  {
   "cell_type": "code",
   "execution_count": 3,
   "id": "56e1e56c",
   "metadata": {},
   "outputs": [],
   "source": [
    "cart_regressor = cartRegressor(max_depth = 8, \n",
    "                                min_sq_error_to_split =0, \n",
    "                                min_sample = 2, \n",
    "                                num_bins = 20)"
   ]
  },
  {
   "cell_type": "markdown",
   "id": "7d693883",
   "metadata": {},
   "source": [
    "2. Train and predict"
   ]
  },
  {
   "cell_type": "code",
   "execution_count": 4,
   "id": "9904fcf6",
   "metadata": {},
   "outputs": [
    {
     "name": "stderr",
     "output_type": "stream",
     "text": [
      "D:\\anacondaEnv\\py36\\lib\\site-packages\\numpy\\core\\fromnumeric.py:3373: RuntimeWarning: Mean of empty slice.\n",
      "  out=out, **kwargs)\n",
      "D:\\anacondaEnv\\py36\\lib\\site-packages\\numpy\\core\\_methods.py:170: RuntimeWarning: invalid value encountered in double_scalars\n",
      "  ret = ret.dtype.type(ret / rcount)\n"
     ]
    }
   ],
   "source": [
    "cart_regressor.fit(data_x,data_y) \n",
    "pred_reproduce =  cart_regressor.predict(data_x)"
   ]
  },
  {
   "cell_type": "markdown",
   "id": "9f27cab8",
   "metadata": {},
   "source": [
    "3. Evaluate"
   ]
  },
  {
   "cell_type": "code",
   "execution_count": 5,
   "id": "6fed7cf6",
   "metadata": {},
   "outputs": [
    {
     "name": "stdout",
     "output_type": "stream",
     "text": [
      "--------------------------------------------------\n",
      "MSE: 1041.617047\n",
      "MAE: 25.474465\n",
      "MAPE: 0.832894\n",
      "R-square: 0.956234\n",
      "--------------------------------------------------\n"
     ]
    }
   ],
   "source": [
    "mse_reproduce = mean_squared_error(data_y, pred_reproduce)\n",
    "mae_reproduce = mean_absolute_error(data_y, pred_reproduce)\n",
    "mape_reproduce = mean_absolute_percentage_error(data_y, pred_reproduce)\n",
    "r2_reproduce = r2_score(data_y, pred_reproduce)\n",
    "\n",
    "print(\"-\"*50)\n",
    "print(\"MSE: %.6f\" %(mse_reproduce))\n",
    "print(\"MAE: %.6f\" %(mae_reproduce))\n",
    "print(\"MAPE: %.6f\" %(mape_reproduce))\n",
    "print(\"R-square: %.6f\" %(r2_reproduce))\n",
    "print(\"-\"*50) "
   ]
  },
  {
   "cell_type": "markdown",
   "id": "243ec2c3",
   "metadata": {},
   "source": [
    "##### scikit-learn decision tree regressor\n",
    "1. Initialise the decision tree regressor from scikit-learn lib"
   ]
  },
  {
   "cell_type": "code",
   "execution_count": 6,
   "id": "1491cce6",
   "metadata": {},
   "outputs": [],
   "source": [
    "sk_cartReg = DecisionTreeRegressor(max_depth = 8, \n",
    "                                    min_samples_split=2, \n",
    "                                    min_impurity_decrease = 0)"
   ]
  },
  {
   "cell_type": "markdown",
   "id": "1b8fd426",
   "metadata": {},
   "source": [
    "2. Train and predict"
   ]
  },
  {
   "cell_type": "code",
   "execution_count": 7,
   "id": "3cab634a",
   "metadata": {},
   "outputs": [],
   "source": [
    "sk_cartReg.fit(data_x,data_y)\n",
    "pred_sk = sk_cartReg.predict(data_x)"
   ]
  },
  {
   "cell_type": "markdown",
   "id": "90d67a3b",
   "metadata": {},
   "source": [
    "3. Evaluate"
   ]
  },
  {
   "cell_type": "code",
   "execution_count": 8,
   "id": "63f94b87",
   "metadata": {},
   "outputs": [
    {
     "name": "stdout",
     "output_type": "stream",
     "text": [
      "--------------------------------------------------\n",
      "sklearn MSE: 1194.224208\n",
      "sklearn MAE: 26.246230\n",
      "sklearn MAPE: 0.940436\n",
      "sklearn R-square: 0.949822\n",
      "--------------------------------------------------\n"
     ]
    }
   ],
   "source": [
    "mse_sk = mean_squared_error(data_y, pred_sk)\n",
    "mae_sk = mean_absolute_error(data_y, pred_sk)\n",
    "mape_sk = mean_absolute_percentage_error(data_y, pred_sk)\n",
    "r2_sk = r2_score(data_y, pred_sk)\n",
    "\n",
    "print(\"-\"*50)\n",
    "print(\"sklearn MSE: %.6f\" %(mse_sk))\n",
    "print(\"sklearn MAE: %.6f\" %(mae_sk))\n",
    "print(\"sklearn MAPE: %.6f\" %(mape_sk))\n",
    "print(\"sklearn R-square: %.6f\" %(r2_sk))\n",
    "print(\"-\"*50) "
   ]
  },
  {
   "cell_type": "markdown",
   "id": "7ca4f219",
   "metadata": {},
   "source": [
    "### CART Classifier\n",
    "Generate synthetic data for classification"
   ]
  },
  {
   "cell_type": "code",
   "execution_count": 9,
   "id": "8d50dc36",
   "metadata": {},
   "outputs": [],
   "source": [
    "data_x, data_y = make_classification(n_samples=2000, n_features=6, n_classes = 2)"
   ]
  },
  {
   "cell_type": "markdown",
   "id": "1496a3a1",
   "metadata": {},
   "source": [
    "##### Reproduced CART classifier\n",
    "1. Initialise the reproduced CART classifier"
   ]
  },
  {
   "cell_type": "code",
   "execution_count": 10,
   "id": "5d48ac2a",
   "metadata": {},
   "outputs": [],
   "source": [
    "cart_classifier = cartClassifier(max_depth = 8, \n",
    "                                 max_gini_to_split = 1, \n",
    "                                 min_sample = 2, \n",
    "                                 num_bins = 20)"
   ]
  },
  {
   "cell_type": "markdown",
   "id": "ba1cb7da",
   "metadata": {},
   "source": [
    "2. Train and predict"
   ]
  },
  {
   "cell_type": "code",
   "execution_count": 11,
   "id": "babab9ad",
   "metadata": {},
   "outputs": [],
   "source": [
    "cart_classifier.fit(data_x, data_y)\n",
    "pred_reproduced = cart_classifier.predict(data_x)"
   ]
  },
  {
   "cell_type": "markdown",
   "id": "a883bf08",
   "metadata": {},
   "source": [
    "3. Evaluate"
   ]
  },
  {
   "cell_type": "code",
   "execution_count": 12,
   "id": "892efc39",
   "metadata": {},
   "outputs": [
    {
     "name": "stdout",
     "output_type": "stream",
     "text": [
      "--------------------------------------------------\n",
      "Accuracy: 0.962500\n",
      "Precision: 0.946050\n",
      "Recall: 0.981019\n",
      "F1: 0.963217\n",
      "--------------------------------------------------\n"
     ]
    }
   ],
   "source": [
    "acc_reproduce = accuracy_score(data_y, pred_reproduced)\n",
    "prec_reproduce = precision_score(data_y, pred_reproduced)\n",
    "recall_reproduce = recall_score(data_y, pred_reproduced)\n",
    "f1_reproduce = f1_score(data_y, pred_reproduced)\n",
    "\n",
    "print(\"-\"*50)\n",
    "print(\"Accuracy: %.6f\" %(acc_reproduce))\n",
    "print(\"Precision: %.6f\" %(prec_reproduce))\n",
    "print(\"Recall: %.6f\" %(recall_reproduce))\n",
    "print(\"F1: %.6f\" %(f1_reproduce))\n",
    "print(\"-\"*50) "
   ]
  },
  {
   "cell_type": "markdown",
   "id": "91e8b30f",
   "metadata": {},
   "source": [
    "##### scikit-learn decision tree classifier\n",
    "1. Initialise the decision tree classifier from scikit-learn lib"
   ]
  },
  {
   "cell_type": "code",
   "execution_count": 13,
   "id": "e6ce5a56",
   "metadata": {},
   "outputs": [],
   "source": [
    "sk_cartClas = DecisionTreeClassifier(max_depth = 8, \n",
    "                                     min_samples_split=2, \n",
    "                                     min_impurity_decrease = 0)"
   ]
  },
  {
   "cell_type": "markdown",
   "id": "af0edd73",
   "metadata": {},
   "source": [
    "2. Train and predict"
   ]
  },
  {
   "cell_type": "code",
   "execution_count": 14,
   "id": "47f60c8f",
   "metadata": {},
   "outputs": [],
   "source": [
    "sk_cartClas.fit(data_x,data_y)\n",
    "pred_sk = sk_cartClas.predict(data_x)"
   ]
  },
  {
   "cell_type": "markdown",
   "id": "229f0fa4",
   "metadata": {},
   "source": [
    "3. Evaluate"
   ]
  },
  {
   "cell_type": "code",
   "execution_count": 15,
   "id": "09ca6693",
   "metadata": {},
   "outputs": [
    {
     "name": "stdout",
     "output_type": "stream",
     "text": [
      "--------------------------------------------------\n",
      "Accuracy: 0.962000\n",
      "Precision: 0.943432\n",
      "Recall: 0.983017\n",
      "F1: 0.962818\n",
      "--------------------------------------------------\n"
     ]
    }
   ],
   "source": [
    "acc_sk = accuracy_score(data_y, pred_sk)\n",
    "prec_sk = precision_score(data_y, pred_sk)\n",
    "recall_sk = recall_score(data_y, pred_sk)\n",
    "f1_sk = f1_score(data_y, pred_sk)\n",
    "\n",
    "print(\"-\"*50)\n",
    "print(\"Accuracy: %.6f\" %(acc_sk))\n",
    "print(\"Precision: %.6f\" %(prec_sk))\n",
    "print(\"Recall: %.6f\" %(recall_sk))\n",
    "print(\"F1: %.6f\" %(f1_sk))\n",
    "print(\"-\"*50) "
   ]
  }
 ],
 "metadata": {
  "kernelspec": {
   "display_name": "Python 3",
   "language": "python",
   "name": "python3"
  },
  "language_info": {
   "codemirror_mode": {
    "name": "ipython",
    "version": 3
   },
   "file_extension": ".py",
   "mimetype": "text/x-python",
   "name": "python",
   "nbconvert_exporter": "python",
   "pygments_lexer": "ipython3",
   "version": "3.6.13"
  }
 },
 "nbformat": 4,
 "nbformat_minor": 5
}
